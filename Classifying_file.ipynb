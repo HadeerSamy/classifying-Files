{
 "cells": [
  {
   "cell_type": "code",
   "execution_count": 13,
   "metadata": {},
   "outputs": [],
   "source": [
    "import os \n",
    "\n",
    "#to get the extension\n",
    "import pathlib\n",
    "\n",
    "#to move files \n",
    "import shutil\n"
   ]
  },
  {
   "cell_type": "code",
   "execution_count": 19,
   "metadata": {},
   "outputs": [],
   "source": [
    "path_name = \"D:\\\\testy\""
   ]
  },
  {
   "cell_type": "code",
   "execution_count": 20,
   "metadata": {},
   "outputs": [],
   "source": [
    "for file in os.listdir(path_name):\n",
    "    # Check if the entry is a file (not a directory)\n",
    "    if os.path.isfile(os.path.join(path_name, file)):\n",
    "        #to get the extension\n",
    "        file_extension = pathlib.Path(file).suffix\n",
    "\n",
    "\n",
    "        #to make sure if a directory already exists or not\n",
    "        if os.path.exists(os.path.join(path_name,file_extension[1:])):\n",
    "            shutil.move(os.path.join(path_name, file), os.path.join(path_name,file_extension[1:]))\n",
    "            \n",
    "        else:\n",
    "            newDirectoryPath = os.path.join(path_name,file_extension[1:])\n",
    "            os.makedirs(newDirectoryPath)\n",
    "            shutil.move(os.path.join(path_name, file), os.path.join(path_name,file_extension[1:]))\n"
   ]
  },
  {
   "cell_type": "code",
   "execution_count": null,
   "metadata": {},
   "outputs": [],
   "source": []
  }
 ],
 "metadata": {
  "kernelspec": {
   "display_name": "Python 3",
   "language": "python",
   "name": "python3"
  },
  "language_info": {
   "codemirror_mode": {
    "name": "ipython",
    "version": 3
   },
   "file_extension": ".py",
   "mimetype": "text/x-python",
   "name": "python",
   "nbconvert_exporter": "python",
   "pygments_lexer": "ipython3",
   "version": "3.11.4"
  }
 },
 "nbformat": 4,
 "nbformat_minor": 2
}
